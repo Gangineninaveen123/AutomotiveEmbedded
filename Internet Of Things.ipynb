{
 "cells": [
  {
   "cell_type": "code",
   "execution_count": null,
   "id": "36797845",
   "metadata": {},
   "outputs": [],
   "source": [
    "all physical objects - i.e. “things” - that connect to the internet and to other devices. \n",
    "\n",
    "\n",
    "objects that interact and “speak” to one another, so we can have the opportunity to be more efficient in how we do things. \n",
    "\n",
    "\n",
    "More specifically, IoT devices are characterized by their ability to gather data on their surroundings, share this data with other electronic devices, and ultimately, help us, the end-user gain information, solve an issue, or complete a task. \n",
    "\n",
    "\n",
    "as the technology is now being used to create larger ecosystems such as smart homes and smart cities. If you read your emails through a voice-controlled virtual assistant, measure your steps and heartbeat with a smartwatch, or control your security system through your mobile phone, you’re benefiting from IoT solutions on a daily basis. \n",
    "\n",
    "\n",
    "Cisco announced that the IoT was “born” around 2008 and 2009 when more machines or objects were linked to the web than there were people on the earth. \n",
    "    \n",
    "    \n",
    "Depending on their usage, we divide IoT devices into four main categories: consumer, organizational, industrial, and infrastructure applications.  \n",
    "    \n",
    "    \n",
    "    \n",
    "The consumer IoT refers to the dozens of personal devices, including smartphones, wearable technology, fashion products, and an increasing range of household appliances, that are linked to the internet, continuously gathering and distributing information. \n",
    "\n",
    "\n",
    "In organizational settings, IoT is mostly widespread in the medical and facilities management field. Specifically, IoT devices are being used for remote monitoring and for creating emergency notification systems for people, buildings, and assets. The COVID-19 pandemic has also urged the use of IoT for smart cleaning and smart occupancy so that workplaces of all types can return to the office with the help of technology. \n",
    "\n",
    "\n",
    "Industrial IoT (IIoT) brings devices, clouds, analytics, and people together to advance the execution and productivity of industrial processes. More specifically industrial IoT (IIoT) enables solutions such as equipment monitoring, predictive maintenance, condition monitoring, error detection, and much more. \n",
    "\n",
    "\n"
   ]
  }
 ],
 "metadata": {
  "kernelspec": {
   "display_name": "Python 3",
   "language": "python",
   "name": "python3"
  },
  "language_info": {
   "codemirror_mode": {
    "name": "ipython",
    "version": 3
   },
   "file_extension": ".py",
   "mimetype": "text/x-python",
   "name": "python",
   "nbconvert_exporter": "python",
   "pygments_lexer": "ipython3",
   "version": "3.6.9"
  }
 },
 "nbformat": 4,
 "nbformat_minor": 5
}
